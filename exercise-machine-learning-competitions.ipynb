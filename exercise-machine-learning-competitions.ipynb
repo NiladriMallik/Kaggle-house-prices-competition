{
 "cells": [
  {
   "cell_type": "markdown",
   "id": "2964c2f0",
   "metadata": {
    "papermill": {
     "duration": 0.006558,
     "end_time": "2022-07-22T12:19:25.919599",
     "exception": false,
     "start_time": "2022-07-22T12:19:25.913041",
     "status": "completed"
    },
    "tags": []
   },
   "source": [
    "**This notebook is an exercise in the [Introduction to Machine Learning](https://www.kaggle.com/learn/intro-to-machine-learning) course.  You can reference the tutorial at [this link](https://www.kaggle.com/alexisbcook/machine-learning-competitions).**\n",
    "\n",
    "---\n"
   ]
  },
  {
   "cell_type": "markdown",
   "id": "6155806e",
   "metadata": {
    "papermill": {
     "duration": 0.004703,
     "end_time": "2022-07-22T12:19:25.929644",
     "exception": false,
     "start_time": "2022-07-22T12:19:25.924941",
     "status": "completed"
    },
    "tags": []
   },
   "source": [
    "# Introduction\n",
    "\n",
    "In this exercise, you will create and submit predictions for a Kaggle competition. You can then improve your model (e.g. by adding features) to apply what you've learned and move up the leaderboard.\n",
    "\n",
    "Begin by running the code cell below to set up code checking and the filepaths for the dataset."
   ]
  },
  {
   "cell_type": "code",
   "execution_count": 1,
   "id": "7df456d2",
   "metadata": {
    "execution": {
     "iopub.execute_input": "2022-07-22T12:19:25.942568Z",
     "iopub.status.busy": "2022-07-22T12:19:25.941272Z",
     "iopub.status.idle": "2022-07-22T12:19:25.995883Z",
     "shell.execute_reply": "2022-07-22T12:19:25.994795Z"
    },
    "papermill": {
     "duration": 0.06412,
     "end_time": "2022-07-22T12:19:25.998642",
     "exception": false,
     "start_time": "2022-07-22T12:19:25.934522",
     "status": "completed"
    },
    "tags": []
   },
   "outputs": [],
   "source": [
    "# Set up code checking\n",
    "from learntools.core import binder\n",
    "binder.bind(globals())\n",
    "from learntools.machine_learning.ex7 import *\n",
    "\n",
    "# Set up filepaths\n",
    "import os\n",
    "if not os.path.exists(\"../input/train.csv\"):\n",
    "    os.symlink(\"../input/home-data-for-ml-course/train.csv\", \"../input/train.csv\")  \n",
    "    os.symlink(\"../input/home-data-for-ml-course/test.csv\", \"../input/test.csv\") "
   ]
  },
  {
   "cell_type": "markdown",
   "id": "50290440",
   "metadata": {
    "papermill": {
     "duration": 0.004633,
     "end_time": "2022-07-22T12:19:26.008282",
     "exception": false,
     "start_time": "2022-07-22T12:19:26.003649",
     "status": "completed"
    },
    "tags": []
   },
   "source": [
    "Here's some of the code you've written so far. Start by running it again."
   ]
  },
  {
   "cell_type": "code",
   "execution_count": 2,
   "id": "5b294bbe",
   "metadata": {
    "execution": {
     "iopub.execute_input": "2022-07-22T12:19:26.020468Z",
     "iopub.status.busy": "2022-07-22T12:19:26.019750Z",
     "iopub.status.idle": "2022-07-22T12:19:28.105450Z",
     "shell.execute_reply": "2022-07-22T12:19:28.103925Z"
    },
    "papermill": {
     "duration": 2.095637,
     "end_time": "2022-07-22T12:19:28.108884",
     "exception": false,
     "start_time": "2022-07-22T12:19:26.013247",
     "status": "completed"
    },
    "tags": []
   },
   "outputs": [
    {
     "name": "stdout",
     "output_type": "stream",
     "text": [
      "Validation MAE for Random Forest Model: 18,962\n"
     ]
    }
   ],
   "source": [
    "# Import helpful libraries\n",
    "import pandas as pd\n",
    "from sklearn.ensemble import RandomForestRegressor\n",
    "from sklearn.metrics import mean_absolute_error\n",
    "from sklearn.model_selection import train_test_split\n",
    "\n",
    "# Load the data, and separate the target\n",
    "iowa_file_path = '../input/train.csv'\n",
    "home_data = pd.read_csv(iowa_file_path)\n",
    "y = home_data.SalePrice\n",
    "\n",
    "# Create X (After completing the exercise, you can return to modify this line!)\n",
    "features = ['LotArea', 'YearBuilt', '1stFlrSF', '2ndFlrSF', 'FullBath', 'BedroomAbvGr', 'TotRmsAbvGrd','ScreenPorch',\n",
    "            'OpenPorchSF','EnclosedPorch','WoodDeckSF','OverallQual','OverallCond']\n",
    "\n",
    "# Select columns corresponding to features, and preview the data\n",
    "X = home_data[features]\n",
    "X.head()\n",
    "\n",
    "# Split into validation and training data\n",
    "train_X, val_X, train_y, val_y = train_test_split(X, y, random_state=1)\n",
    "\n",
    "# Define a random forest model\n",
    "rf_model = RandomForestRegressor(random_state=1)\n",
    "rf_model.fit(train_X, train_y)\n",
    "rf_val_predictions = rf_model.predict(val_X)\n",
    "rf_val_mae = mean_absolute_error(rf_val_predictions, val_y)\n",
    "\n",
    "print(\"Validation MAE for Random Forest Model: {:,.0f}\".format(rf_val_mae))"
   ]
  },
  {
   "cell_type": "code",
   "execution_count": 3,
   "id": "86f0cb97",
   "metadata": {
    "execution": {
     "iopub.execute_input": "2022-07-22T12:19:28.122201Z",
     "iopub.status.busy": "2022-07-22T12:19:28.121601Z",
     "iopub.status.idle": "2022-07-22T12:19:28.130172Z",
     "shell.execute_reply": "2022-07-22T12:19:28.129277Z"
    },
    "papermill": {
     "duration": 0.017719,
     "end_time": "2022-07-22T12:19:28.132376",
     "exception": false,
     "start_time": "2022-07-22T12:19:28.114657",
     "status": "completed"
    },
    "tags": []
   },
   "outputs": [
    {
     "data": {
      "text/plain": [
       "Index(['Id', 'MSSubClass', 'MSZoning', 'LotFrontage', 'LotArea', 'Street',\n",
       "       'Alley', 'LotShape', 'LandContour', 'Utilities', 'LotConfig',\n",
       "       'LandSlope', 'Neighborhood', 'Condition1', 'Condition2', 'BldgType',\n",
       "       'HouseStyle', 'OverallQual', 'OverallCond', 'YearBuilt', 'YearRemodAdd',\n",
       "       'RoofStyle', 'RoofMatl', 'Exterior1st', 'Exterior2nd', 'MasVnrType',\n",
       "       'MasVnrArea', 'ExterQual', 'ExterCond', 'Foundation', 'BsmtQual',\n",
       "       'BsmtCond', 'BsmtExposure', 'BsmtFinType1', 'BsmtFinSF1',\n",
       "       'BsmtFinType2', 'BsmtFinSF2', 'BsmtUnfSF', 'TotalBsmtSF', 'Heating',\n",
       "       'HeatingQC', 'CentralAir', 'Electrical', '1stFlrSF', '2ndFlrSF',\n",
       "       'LowQualFinSF', 'GrLivArea', 'BsmtFullBath', 'BsmtHalfBath', 'FullBath',\n",
       "       'HalfBath', 'BedroomAbvGr', 'KitchenAbvGr', 'KitchenQual',\n",
       "       'TotRmsAbvGrd', 'Functional', 'Fireplaces', 'FireplaceQu', 'GarageType',\n",
       "       'GarageYrBlt', 'GarageFinish', 'GarageCars', 'GarageArea', 'GarageQual',\n",
       "       'GarageCond', 'PavedDrive', 'WoodDeckSF', 'OpenPorchSF',\n",
       "       'EnclosedPorch', '3SsnPorch', 'ScreenPorch', 'PoolArea', 'PoolQC',\n",
       "       'Fence', 'MiscFeature', 'MiscVal', 'MoSold', 'YrSold', 'SaleType',\n",
       "       'SaleCondition', 'SalePrice'],\n",
       "      dtype='object')"
      ]
     },
     "execution_count": 3,
     "metadata": {},
     "output_type": "execute_result"
    }
   ],
   "source": [
    "home_data.columns"
   ]
  },
  {
   "cell_type": "code",
   "execution_count": 4,
   "id": "27cca4ff",
   "metadata": {
    "execution": {
     "iopub.execute_input": "2022-07-22T12:19:28.145281Z",
     "iopub.status.busy": "2022-07-22T12:19:28.144673Z",
     "iopub.status.idle": "2022-07-22T12:19:28.148671Z",
     "shell.execute_reply": "2022-07-22T12:19:28.147886Z"
    },
    "papermill": {
     "duration": 0.013062,
     "end_time": "2022-07-22T12:19:28.150880",
     "exception": false,
     "start_time": "2022-07-22T12:19:28.137818",
     "status": "completed"
    },
    "tags": []
   },
   "outputs": [],
   "source": [
    "# home_data.ScreenPorch.unique()\n",
    "# home_data.OpenPorchSF.unique()\n",
    "# home_data.GarageArea.unique()\n",
    "# home_data.EnclosedPorch.unique()\n",
    "# home_data.WoodDeckSF.unique()\n",
    "# home_data['LotShape'].unique()\n",
    "# home_data['LotConfig'].unique()\n",
    "# home_data['BldgType'].unique()\n",
    "# home_data['OverallQual'].unique()\n",
    "# home_data['HouseStyle'].unique()\n",
    "# home_data['OverallCond'].unique()\n",
    "# home_data['Exterior1st'].unique()\n",
    "# home_data['Exterior2nd'].unique()\n",
    "# home_data['Foundation'].unique()\n",
    "# home_data['BsmtQual'].unique()"
   ]
  },
  {
   "cell_type": "markdown",
   "id": "de6e957c",
   "metadata": {
    "papermill": {
     "duration": 0.005143,
     "end_time": "2022-07-22T12:19:28.161479",
     "exception": false,
     "start_time": "2022-07-22T12:19:28.156336",
     "status": "completed"
    },
    "tags": []
   },
   "source": [
    "# Train a model for the competition\n",
    "\n",
    "The code cell above trains a Random Forest model on **`train_X`** and **`train_y`**.  \n",
    "\n",
    "Use the code cell below to build a Random Forest model and train it on all of **`X`** and **`y`**."
   ]
  },
  {
   "cell_type": "code",
   "execution_count": 5,
   "id": "2c845260",
   "metadata": {
    "execution": {
     "iopub.execute_input": "2022-07-22T12:19:28.174377Z",
     "iopub.status.busy": "2022-07-22T12:19:28.173962Z",
     "iopub.status.idle": "2022-07-22T12:19:28.915618Z",
     "shell.execute_reply": "2022-07-22T12:19:28.914391Z"
    },
    "papermill": {
     "duration": 0.751467,
     "end_time": "2022-07-22T12:19:28.918259",
     "exception": false,
     "start_time": "2022-07-22T12:19:28.166792",
     "status": "completed"
    },
    "tags": []
   },
   "outputs": [
    {
     "data": {
      "text/plain": [
       "RandomForestRegressor(random_state=1)"
      ]
     },
     "execution_count": 5,
     "metadata": {},
     "output_type": "execute_result"
    }
   ],
   "source": [
    "# To improve accuracy, create a new Random Forest model which you will train on all training data\n",
    "rf_model_on_full_data = RandomForestRegressor(random_state=1)\n",
    "\n",
    "# fit rf_model_on_full_data on all data from the training data\n",
    "rf_model_on_full_data.fit(X,y)"
   ]
  },
  {
   "cell_type": "markdown",
   "id": "ad90caca",
   "metadata": {
    "papermill": {
     "duration": 0.005103,
     "end_time": "2022-07-22T12:19:28.928945",
     "exception": false,
     "start_time": "2022-07-22T12:19:28.923842",
     "status": "completed"
    },
    "tags": []
   },
   "source": [
    "Now, read the file of \"test\" data, and apply your model to make predictions."
   ]
  },
  {
   "cell_type": "code",
   "execution_count": 6,
   "id": "dae5b065",
   "metadata": {
    "execution": {
     "iopub.execute_input": "2022-07-22T12:19:28.941414Z",
     "iopub.status.busy": "2022-07-22T12:19:28.940805Z",
     "iopub.status.idle": "2022-07-22T12:19:29.018580Z",
     "shell.execute_reply": "2022-07-22T12:19:29.017300Z"
    },
    "papermill": {
     "duration": 0.086768,
     "end_time": "2022-07-22T12:19:29.021012",
     "exception": false,
     "start_time": "2022-07-22T12:19:28.934244",
     "status": "completed"
    },
    "tags": []
   },
   "outputs": [],
   "source": [
    "# path to file you will use for predictions\n",
    "test_data_path = '../input/test.csv'\n",
    "\n",
    "# read test data file using pandas\n",
    "test_data = pd.read_csv(test_data_path)\n",
    "\n",
    "# create test_X which comes from test_data but includes only the columns you used for prediction.\n",
    "# The list of columns is stored in a variable called features\n",
    "test_X = test_data[features]\n",
    "\n",
    "# make predictions which we will submit. \n",
    "test_preds = rf_model_on_full_data.predict(test_X)"
   ]
  },
  {
   "cell_type": "code",
   "execution_count": 7,
   "id": "e9052ebe",
   "metadata": {
    "execution": {
     "iopub.execute_input": "2022-07-22T12:19:29.034049Z",
     "iopub.status.busy": "2022-07-22T12:19:29.033625Z",
     "iopub.status.idle": "2022-07-22T12:19:29.041440Z",
     "shell.execute_reply": "2022-07-22T12:19:29.040269Z"
    },
    "papermill": {
     "duration": 0.016733,
     "end_time": "2022-07-22T12:19:29.043584",
     "exception": false,
     "start_time": "2022-07-22T12:19:29.026851",
     "status": "completed"
    },
    "tags": []
   },
   "outputs": [
    {
     "data": {
      "text/plain": [
       "Index(['Id', 'MSSubClass', 'MSZoning', 'LotFrontage', 'LotArea', 'Street',\n",
       "       'Alley', 'LotShape', 'LandContour', 'Utilities', 'LotConfig',\n",
       "       'LandSlope', 'Neighborhood', 'Condition1', 'Condition2', 'BldgType',\n",
       "       'HouseStyle', 'OverallQual', 'OverallCond', 'YearBuilt', 'YearRemodAdd',\n",
       "       'RoofStyle', 'RoofMatl', 'Exterior1st', 'Exterior2nd', 'MasVnrType',\n",
       "       'MasVnrArea', 'ExterQual', 'ExterCond', 'Foundation', 'BsmtQual',\n",
       "       'BsmtCond', 'BsmtExposure', 'BsmtFinType1', 'BsmtFinSF1',\n",
       "       'BsmtFinType2', 'BsmtFinSF2', 'BsmtUnfSF', 'TotalBsmtSF', 'Heating',\n",
       "       'HeatingQC', 'CentralAir', 'Electrical', '1stFlrSF', '2ndFlrSF',\n",
       "       'LowQualFinSF', 'GrLivArea', 'BsmtFullBath', 'BsmtHalfBath', 'FullBath',\n",
       "       'HalfBath', 'BedroomAbvGr', 'KitchenAbvGr', 'KitchenQual',\n",
       "       'TotRmsAbvGrd', 'Functional', 'Fireplaces', 'FireplaceQu', 'GarageType',\n",
       "       'GarageYrBlt', 'GarageFinish', 'GarageCars', 'GarageArea', 'GarageQual',\n",
       "       'GarageCond', 'PavedDrive', 'WoodDeckSF', 'OpenPorchSF',\n",
       "       'EnclosedPorch', '3SsnPorch', 'ScreenPorch', 'PoolArea', 'PoolQC',\n",
       "       'Fence', 'MiscFeature', 'MiscVal', 'MoSold', 'YrSold', 'SaleType',\n",
       "       'SaleCondition'],\n",
       "      dtype='object')"
      ]
     },
     "execution_count": 7,
     "metadata": {},
     "output_type": "execute_result"
    }
   ],
   "source": [
    "test_data.columns"
   ]
  },
  {
   "cell_type": "markdown",
   "id": "27f620d2",
   "metadata": {
    "papermill": {
     "duration": 0.005251,
     "end_time": "2022-07-22T12:19:29.054269",
     "exception": false,
     "start_time": "2022-07-22T12:19:29.049018",
     "status": "completed"
    },
    "tags": []
   },
   "source": [
    "Before submitting, run a check to make sure your `test_preds` have the right format."
   ]
  },
  {
   "cell_type": "code",
   "execution_count": 8,
   "id": "bf1c5925",
   "metadata": {
    "execution": {
     "iopub.execute_input": "2022-07-22T12:19:29.067874Z",
     "iopub.status.busy": "2022-07-22T12:19:29.067363Z",
     "iopub.status.idle": "2022-07-22T12:19:29.076701Z",
     "shell.execute_reply": "2022-07-22T12:19:29.075655Z"
    },
    "papermill": {
     "duration": 0.018719,
     "end_time": "2022-07-22T12:19:29.078788",
     "exception": false,
     "start_time": "2022-07-22T12:19:29.060069",
     "status": "completed"
    },
    "tags": []
   },
   "outputs": [
    {
     "data": {
      "application/javascript": [
       "parent.postMessage({\"jupyterEvent\": \"custom.exercise_interaction\", \"data\": {\"outcomeType\": 1, \"valueTowardsCompletion\": 1.0, \"interactionType\": 1, \"questionType\": 2, \"questionId\": \"1_CheckSubmittablePreds\", \"learnToolsVersion\": \"0.3.4\", \"failureMessage\": \"\", \"exceptionClass\": \"\", \"trace\": \"\"}}, \"*\")"
      ],
      "text/plain": [
       "<IPython.core.display.Javascript object>"
      ]
     },
     "metadata": {},
     "output_type": "display_data"
    },
    {
     "data": {
      "text/markdown": [
       "<span style=\"color:#33cc33\">Correct</span>"
      ],
      "text/plain": [
       "Correct"
      ]
     },
     "metadata": {},
     "output_type": "display_data"
    }
   ],
   "source": [
    "# Check your answer (To get credit for completing the exercise, you must get a \"Correct\" result!)\n",
    "step_1.check()\n",
    "# step_1.solution()"
   ]
  },
  {
   "cell_type": "markdown",
   "id": "4192baa2",
   "metadata": {
    "papermill": {
     "duration": 0.005509,
     "end_time": "2022-07-22T12:19:29.090062",
     "exception": false,
     "start_time": "2022-07-22T12:19:29.084553",
     "status": "completed"
    },
    "tags": []
   },
   "source": [
    "# Generate a submission\n",
    "\n",
    "Run the code cell below to generate a CSV file with your predictions that you can use to submit to the competition."
   ]
  },
  {
   "cell_type": "code",
   "execution_count": 9,
   "id": "c44ea95e",
   "metadata": {
    "execution": {
     "iopub.execute_input": "2022-07-22T12:19:29.103286Z",
     "iopub.status.busy": "2022-07-22T12:19:29.102874Z",
     "iopub.status.idle": "2022-07-22T12:19:29.115645Z",
     "shell.execute_reply": "2022-07-22T12:19:29.114513Z"
    },
    "papermill": {
     "duration": 0.022441,
     "end_time": "2022-07-22T12:19:29.118234",
     "exception": false,
     "start_time": "2022-07-22T12:19:29.095793",
     "status": "completed"
    },
    "tags": []
   },
   "outputs": [],
   "source": [
    "# Run the code to save predictions in the format used for competition scoring\n",
    "\n",
    "output = pd.DataFrame({'Id': test_data.Id,\n",
    "                       'SalePrice': test_preds})\n",
    "output.to_csv('submission.csv', index=False)"
   ]
  },
  {
   "cell_type": "markdown",
   "id": "b6dabfb0",
   "metadata": {
    "papermill": {
     "duration": 0.005472,
     "end_time": "2022-07-22T12:19:29.129506",
     "exception": false,
     "start_time": "2022-07-22T12:19:29.124034",
     "status": "completed"
    },
    "tags": []
   },
   "source": [
    "# Submit to the competition\n",
    "\n",
    "To test your results, you'll need to join the competition (if you haven't already).  So open a new window by clicking on **[this link](https://www.kaggle.com/c/home-data-for-ml-course)**.  Then click on the **Join Competition** button.\n",
    "\n",
    "![join competition image](https://i.imgur.com/axBzctl.png)\n",
    "\n",
    "Next, follow the instructions below:\n",
    "1. Begin by clicking on the **Save Version** button in the top right corner of the window.  This will generate a pop-up window.  \n",
    "2. Ensure that the **Save and Run All** option is selected, and then click on the **Save** button.\n",
    "3. This generates a window in the bottom left corner of the notebook.  After it has finished running, click on the number to the right of the **Save Version** button.  This pulls up a list of versions on the right of the screen.  Click on the ellipsis **(...)** to the right of the most recent version, and select **Open in Viewer**.  This brings you into view mode of the same page. You will need to scroll down to get back to these instructions.\n",
    "4. Click on the **Output** tab on the right of the screen.  Then, click on the file you would like to submit, and click on the **Submit** button to submit your results to the leaderboard.\n",
    "\n",
    "You have now successfully submitted to the competition!\n",
    "\n",
    "If you want to keep working to improve your performance, select the **Edit** button in the top right of the screen. Then you can change your code and repeat the process. There's a lot of room to improve, and you will climb up the leaderboard as you work.\n",
    "\n",
    "\n",
    "# Continue Your Progress\n",
    "There are many ways to improve your model, and **experimenting is a great way to learn at this point.**\n",
    "\n",
    "The best way to improve your model is to add features.  To add more features to the data, revisit the first code cell, and change this line of code to include more column names:\n",
    "```python\n",
    "features = ['LotArea', 'YearBuilt', '1stFlrSF', '2ndFlrSF', 'FullBath', 'BedroomAbvGr', 'TotRmsAbvGrd']\n",
    "```\n",
    "\n",
    "Some features will cause errors because of issues like missing values or non-numeric data types.  Here is a complete list of potential columns that you might like to use, and that won't throw errors:\n",
    "- 'MSSubClass'\n",
    "- 'LotArea'\n",
    "- 'OverallQual' \n",
    "- 'OverallCond' \n",
    "- 'YearBuilt'\n",
    "- 'YearRemodAdd' \n",
    "- '1stFlrSF'\n",
    "- '2ndFlrSF' \n",
    "- 'LowQualFinSF' \n",
    "- 'GrLivArea'\n",
    "- 'FullBath'\n",
    "- 'HalfBath'\n",
    "- 'BedroomAbvGr' \n",
    "- 'KitchenAbvGr' \n",
    "- 'TotRmsAbvGrd' \n",
    "- 'Fireplaces' \n",
    "- 'WoodDeckSF' \n",
    "- 'OpenPorchSF'\n",
    "- 'EnclosedPorch' \n",
    "- '3SsnPorch' \n",
    "- 'ScreenPorch' \n",
    "- 'PoolArea' \n",
    "- 'MiscVal' \n",
    "- 'MoSold' \n",
    "- 'YrSold'\n",
    "\n",
    "Look at the list of columns and think about what might affect home prices.  To learn more about each of these features, take a look at the data description on the **[competition page](https://www.kaggle.com/c/home-data-for-ml-course/data)**.\n",
    "\n",
    "After updating the code cell above that defines the features, re-run all of the code cells to evaluate the model and generate a new submission file.  \n",
    "\n",
    "\n",
    "# What's next?\n",
    "\n",
    "As mentioned above, some of the features will throw an error if you try to use them to train your model.  The **[Intermediate Machine Learning](https://www.kaggle.com/learn/intermediate-machine-learning)** course will teach you how to handle these types of features. You will also learn to use **xgboost**, a technique giving even better accuracy than Random Forest.\n",
    "\n",
    "The **[Pandas](https://kaggle.com/Learn/Pandas)** course will give you the data manipulation skills to quickly go from conceptual idea to implementation in your data science projects. \n",
    "\n",
    "You are also ready for the **[Deep Learning](https://kaggle.com/Learn/intro-to-Deep-Learning)** course, where you will build models with better-than-human level performance at computer vision tasks."
   ]
  },
  {
   "cell_type": "markdown",
   "id": "c5351082",
   "metadata": {
    "papermill": {
     "duration": 0.005404,
     "end_time": "2022-07-22T12:19:29.140649",
     "exception": false,
     "start_time": "2022-07-22T12:19:29.135245",
     "status": "completed"
    },
    "tags": []
   },
   "source": [
    "---\n",
    "\n",
    "\n",
    "\n",
    "\n",
    "*Have questions or comments? Visit the [course discussion forum](https://www.kaggle.com/learn/intro-to-machine-learning/discussion) to chat with other learners.*"
   ]
  }
 ],
 "metadata": {
  "kernelspec": {
   "display_name": "Python 3",
   "language": "python",
   "name": "python3"
  },
  "language_info": {
   "codemirror_mode": {
    "name": "ipython",
    "version": 3
   },
   "file_extension": ".py",
   "mimetype": "text/x-python",
   "name": "python",
   "nbconvert_exporter": "python",
   "pygments_lexer": "ipython3",
   "version": "3.7.12"
  },
  "papermill": {
   "default_parameters": {},
   "duration": 14.359586,
   "end_time": "2022-07-22T12:19:29.868437",
   "environment_variables": {},
   "exception": null,
   "input_path": "__notebook__.ipynb",
   "output_path": "__notebook__.ipynb",
   "parameters": {},
   "start_time": "2022-07-22T12:19:15.508851",
   "version": "2.3.4"
  }
 },
 "nbformat": 4,
 "nbformat_minor": 5
}
